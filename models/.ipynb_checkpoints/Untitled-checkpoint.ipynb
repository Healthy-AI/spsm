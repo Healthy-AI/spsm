{
 "cells": [
  {
   "cell_type": "code",
   "execution_count": 33,
   "id": "261dad87",
   "metadata": {},
   "outputs": [],
   "source": [
    "import numpy as np\n",
    "import pandas as pd\n",
    "\n",
    "from ortools.linear_solver import pywraplp\n",
    "from ortools.init import pywrapinit\n",
    "from scipy.optimize import linprog\n",
    "\n",
    "from sklearn.linear_model import LinearRegression"
   ]
  },
  {
   "cell_type": "code",
   "execution_count": 35,
   "id": "1f37f481",
   "metadata": {},
   "outputs": [
    {
     "data": {
      "text/html": [
       "<div>\n",
       "<style scoped>\n",
       "    .dataframe tbody tr th:only-of-type {\n",
       "        vertical-align: middle;\n",
       "    }\n",
       "\n",
       "    .dataframe tbody tr th {\n",
       "        vertical-align: top;\n",
       "    }\n",
       "\n",
       "    .dataframe thead th {\n",
       "        text-align: right;\n",
       "    }\n",
       "</style>\n",
       "<table border=\"1\" class=\"dataframe\">\n",
       "  <thead>\n",
       "    <tr style=\"text-align: right;\">\n",
       "      <th></th>\n",
       "      <th>X</th>\n",
       "      <th>outcome</th>\n",
       "    </tr>\n",
       "  </thead>\n",
       "  <tbody>\n",
       "    <tr>\n",
       "      <th>0</th>\n",
       "      <td>0.0</td>\n",
       "      <td>8.578089</td>\n",
       "    </tr>\n",
       "    <tr>\n",
       "      <th>1</th>\n",
       "      <td>1.0</td>\n",
       "      <td>-9.025241</td>\n",
       "    </tr>\n",
       "    <tr>\n",
       "      <th>2</th>\n",
       "      <td>2.0</td>\n",
       "      <td>-3.468334</td>\n",
       "    </tr>\n",
       "    <tr>\n",
       "      <th>3</th>\n",
       "      <td>3.0</td>\n",
       "      <td>11.559380</td>\n",
       "    </tr>\n",
       "    <tr>\n",
       "      <th>4</th>\n",
       "      <td>4.0</td>\n",
       "      <td>-1.204748</td>\n",
       "    </tr>\n",
       "    <tr>\n",
       "      <th>...</th>\n",
       "      <td>...</td>\n",
       "      <td>...</td>\n",
       "    </tr>\n",
       "    <tr>\n",
       "      <th>95</th>\n",
       "      <td>95.0</td>\n",
       "      <td>77.541579</td>\n",
       "    </tr>\n",
       "    <tr>\n",
       "      <th>96</th>\n",
       "      <td>96.0</td>\n",
       "      <td>80.792616</td>\n",
       "    </tr>\n",
       "    <tr>\n",
       "      <th>97</th>\n",
       "      <td>97.0</td>\n",
       "      <td>82.426586</td>\n",
       "    </tr>\n",
       "    <tr>\n",
       "      <th>98</th>\n",
       "      <td>98.0</td>\n",
       "      <td>70.352330</td>\n",
       "    </tr>\n",
       "    <tr>\n",
       "      <th>99</th>\n",
       "      <td>99.0</td>\n",
       "      <td>86.531056</td>\n",
       "    </tr>\n",
       "  </tbody>\n",
       "</table>\n",
       "<p>100 rows × 2 columns</p>\n",
       "</div>"
      ],
      "text/plain": [
       "       X    outcome\n",
       "0    0.0   8.578089\n",
       "1    1.0  -9.025241\n",
       "2    2.0  -3.468334\n",
       "3    3.0  11.559380\n",
       "4    4.0  -1.204748\n",
       "..   ...        ...\n",
       "95  95.0  77.541579\n",
       "96  96.0  80.792616\n",
       "97  97.0  82.426586\n",
       "98  98.0  70.352330\n",
       "99  99.0  86.531056\n",
       "\n",
       "[100 rows x 2 columns]"
      ]
     },
     "execution_count": 35,
     "metadata": {},
     "output_type": "execute_result"
    }
   ],
   "source": [
    "#Data generating process \n",
    "def generate_data(frac=1.0):\n",
    "    X = np.arange(100)\n",
    "    \n",
    "    #Alternative way to create X\n",
    "    #X matrix\n",
    "    #m = 10 #number of max samples in X, X.shape[0]\n",
    "    #d = 1 #number of dimensions/features in X d = X.shape[1]\n",
    "    #p = 0.1\n",
    "    #X = np.random.choice(a=[0, 1], size=(m, d), p=[p, 1-p]) #matrix x*d\n",
    "\n",
    "    delta = np.random.uniform(-10,10, size=(100,))\n",
    "    \n",
    "    b = 0\n",
    "    alpha = .8\n",
    "    #Objective \n",
    "    Y = alpha*X +b + delta\n",
    "    \n",
    "\n",
    "    con = np.stack((X,Y), axis=1)\n",
    "    column_names = [\"X\", \"outcome\"]\n",
    "    df = pd.DataFrame(con, columns=(column_names))\n",
    "    df\n",
    "    return X, Y, df\n",
    "\n",
    "X,Y, df = generate_data(1.0) #fraction\n",
    "\n",
    "#train-test-split\n",
    "from sklearn.model_selection import train_test_split\n",
    "X = X.reshape(-1,1)\n",
    "Y= Y.reshape(-1,1)\n",
    "#Train test split\n",
    "X_train, X_test, y_train, y_test = train_test_split(X,Y, test_size = 0.2)\n",
    "\n",
    "#Validation split for hyperparameter later\n",
    "#X_train, y_train, X_valid, y_valid  = train_test_split(X_train, y_train, test_size = 0.2)\n",
    "df"
   ]
  },
  {
   "cell_type": "code",
   "execution_count": 53,
   "id": "bd09bb4b",
   "metadata": {},
   "outputs": [
    {
     "ename": "TypeError",
     "evalue": "model() takes 1 positional argument but 2 were given",
     "output_type": "error",
     "traceback": [
      "\u001b[0;31m---------------------------------------------------------------------------\u001b[0m",
      "\u001b[0;31mTypeError\u001b[0m                                 Traceback (most recent call last)",
      "Input \u001b[0;32mIn [53]\u001b[0m, in \u001b[0;36m<cell line: 14>\u001b[0;34m()\u001b[0m\n\u001b[1;32m     10\u001b[0m     \u001b[38;5;28;01mreturn\u001b[39;00m model(x, a) \u001b[38;5;241m-\u001b[39m y\n\u001b[1;32m     12\u001b[0m x0 \u001b[38;5;241m=\u001b[39m np\u001b[38;5;241m.\u001b[39marray([\u001b[38;5;241m1.0\u001b[39m, \u001b[38;5;241m1.0\u001b[39m, \u001b[38;5;241m0.0\u001b[39m])\n\u001b[0;32m---> 14\u001b[0m res \u001b[38;5;241m=\u001b[39m \u001b[43mleast_squares\u001b[49m\u001b[43m(\u001b[49m\u001b[43mfun\u001b[49m\u001b[43m,\u001b[49m\u001b[43m \u001b[49m\u001b[43mx0\u001b[49m\u001b[43m,\u001b[49m\u001b[43m \u001b[49m\u001b[43margs\u001b[49m\u001b[38;5;241;43m=\u001b[39;49m\u001b[43m(\u001b[49m\u001b[43mX_train\u001b[49m\u001b[43m,\u001b[49m\u001b[43m \u001b[49m\u001b[43my_train\u001b[49m\u001b[43m)\u001b[49m\u001b[43m)\u001b[49m\n",
      "File \u001b[0;32m~/opt/anaconda3/lib/python3.8/site-packages/scipy/optimize/_lsq/least_squares.py:820\u001b[0m, in \u001b[0;36mleast_squares\u001b[0;34m(fun, x0, jac, bounds, method, ftol, xtol, gtol, x_scale, loss, f_scale, diff_step, tr_solver, tr_options, jac_sparsity, max_nfev, verbose, args, kwargs)\u001b[0m\n\u001b[1;32m    817\u001b[0m \u001b[38;5;28;01mif\u001b[39;00m method \u001b[38;5;241m==\u001b[39m \u001b[38;5;124m'\u001b[39m\u001b[38;5;124mtrf\u001b[39m\u001b[38;5;124m'\u001b[39m:\n\u001b[1;32m    818\u001b[0m     x0 \u001b[38;5;241m=\u001b[39m make_strictly_feasible(x0, lb, ub)\n\u001b[0;32m--> 820\u001b[0m f0 \u001b[38;5;241m=\u001b[39m \u001b[43mfun_wrapped\u001b[49m\u001b[43m(\u001b[49m\u001b[43mx0\u001b[49m\u001b[43m)\u001b[49m\n\u001b[1;32m    822\u001b[0m \u001b[38;5;28;01mif\u001b[39;00m f0\u001b[38;5;241m.\u001b[39mndim \u001b[38;5;241m!=\u001b[39m \u001b[38;5;241m1\u001b[39m:\n\u001b[1;32m    823\u001b[0m     \u001b[38;5;28;01mraise\u001b[39;00m \u001b[38;5;167;01mValueError\u001b[39;00m(\u001b[38;5;124m\"\u001b[39m\u001b[38;5;124m`fun` must return at most 1-d array_like. \u001b[39m\u001b[38;5;124m\"\u001b[39m\n\u001b[1;32m    824\u001b[0m                      \u001b[38;5;124m\"\u001b[39m\u001b[38;5;124mf0.shape: \u001b[39m\u001b[38;5;132;01m{0}\u001b[39;00m\u001b[38;5;124m\"\u001b[39m\u001b[38;5;241m.\u001b[39mformat(f0\u001b[38;5;241m.\u001b[39mshape))\n",
      "File \u001b[0;32m~/opt/anaconda3/lib/python3.8/site-packages/scipy/optimize/_lsq/least_squares.py:815\u001b[0m, in \u001b[0;36mleast_squares.<locals>.fun_wrapped\u001b[0;34m(x)\u001b[0m\n\u001b[1;32m    814\u001b[0m \u001b[38;5;28;01mdef\u001b[39;00m \u001b[38;5;21mfun_wrapped\u001b[39m(x):\n\u001b[0;32m--> 815\u001b[0m     \u001b[38;5;28;01mreturn\u001b[39;00m np\u001b[38;5;241m.\u001b[39matleast_1d(\u001b[43mfun\u001b[49m\u001b[43m(\u001b[49m\u001b[43mx\u001b[49m\u001b[43m,\u001b[49m\u001b[43m \u001b[49m\u001b[38;5;241;43m*\u001b[39;49m\u001b[43margs\u001b[49m\u001b[43m,\u001b[49m\u001b[43m \u001b[49m\u001b[38;5;241;43m*\u001b[39;49m\u001b[38;5;241;43m*\u001b[39;49m\u001b[43mkwargs\u001b[49m\u001b[43m)\u001b[49m)\n",
      "Input \u001b[0;32mIn [53]\u001b[0m, in \u001b[0;36mfun\u001b[0;34m(x, a, y)\u001b[0m\n\u001b[1;32m      9\u001b[0m \u001b[38;5;28;01mdef\u001b[39;00m \u001b[38;5;21mfun\u001b[39m(x, a, y):\n\u001b[0;32m---> 10\u001b[0m     \u001b[38;5;28;01mreturn\u001b[39;00m \u001b[43mmodel\u001b[49m\u001b[43m(\u001b[49m\u001b[43mx\u001b[49m\u001b[43m,\u001b[49m\u001b[43m \u001b[49m\u001b[43ma\u001b[49m\u001b[43m)\u001b[49m \u001b[38;5;241m-\u001b[39m y\n",
      "\u001b[0;31mTypeError\u001b[0m: model() takes 1 positional argument but 2 were given"
     ]
    }
   ],
   "source": [
    "from scipy.optimize import least_squares\n",
    "\n",
    "def objective_function(a):\n",
    "    c=1\n",
    "    b=0\n",
    "    return c(x.dot(a)+b) \n",
    "    \n",
    "\n",
    "def fun(x, a, y):\n",
    "    return objective_function(x, a) - y\n",
    "\n",
    "x0 = np.array([1.0, 1.0, 0.0])\n",
    "\n",
    "res = least_squares(fun, x0, args=(X_train, y_train))\n"
   ]
  },
  {
   "cell_type": "code",
   "execution_count": 56,
   "id": "86178c99",
   "metadata": {},
   "outputs": [
    {
     "name": "stderr",
     "output_type": "stream",
     "text": [
      "/var/folders/zp/36srk4b12hq3bmj3pjx4nb4jyrcv72/T/ipykernel_77848/1407900652.py:5: RuntimeWarning: overflow encountered in double_scalars\n",
      "  return c * x + 1\n"
     ]
    },
    {
     "data": {
      "text/plain": [
       "     fun: -inf\n",
       "    nfev: 1433\n",
       "     nit: 500\n",
       " success: False\n",
       "       x: -1.3794103988330949e+308"
      ]
     },
     "execution_count": 56,
     "metadata": {},
     "output_type": "execute_result"
    }
   ],
   "source": [
    "from scipy.optimize import minimize_scalar\n",
    "\n",
    "def objective_function(x):\n",
    "    c=3\n",
    "    return c * x + 1\n",
    "\n",
    "res = minimize_scalar(objective_function)\n",
    "res"
   ]
  },
  {
   "cell_type": "code",
   "execution_count": 41,
   "id": "cec60037",
   "metadata": {},
   "outputs": [
    {
     "ename": "NameError",
     "evalue": "name 'LinearConstraint' is not defined",
     "output_type": "error",
     "traceback": [
      "\u001b[0;31m---------------------------------------------------------------------------\u001b[0m",
      "\u001b[0;31mNameError\u001b[0m                                 Traceback (most recent call last)",
      "Input \u001b[0;32mIn [41]\u001b[0m, in \u001b[0;36m<cell line: 1>\u001b[0;34m()\u001b[0m\n\u001b[0;32m----> 1\u001b[0m constraint \u001b[38;5;241m=\u001b[39m \u001b[43mLinearConstraint\u001b[49m(np\u001b[38;5;241m.\u001b[39mones(a), lb\u001b[38;5;241m=\u001b[39m\u001b[38;5;241m0\u001b[39m, ub\u001b[38;5;241m=\u001b[39m\u001b[38;5;241m1\u001b[39m)\n\u001b[1;32m      4\u001b[0m \u001b[38;5;66;03m#extent to matrix and sums \u001b[39;00m\n\u001b[1;32m      5\u001b[0m \u001b[38;5;66;03m#numer += c[k]*(X_train[i]*a + b) + \\sumover k * D*X_train[i]*a + b\u001b[39;00m\n\u001b[1;32m      6\u001b[0m \u001b[38;5;28;01mdef\u001b[39;00m \u001b[38;5;21mobjective_function\u001b[39m(x,a,b):\n",
      "\u001b[0;31mNameError\u001b[0m: name 'LinearConstraint' is not defined"
     ]
    }
   ],
   "source": [
    " \n",
    "\n",
    "constraint = LinearConstraint(np.ones(a), lb=0, ub=1)\n",
    "\n",
    " \n",
    "#extent to matrix and sums \n",
    "#numer += c[k]*(X_train[i]*a + b) + \\sumover k * D*X_train[i]*a + b\n",
    "def objective_function(x,a,b):\n",
    "    c=1\n",
    "    b=0\n",
    "    return c(x.dot(a)+b) \n",
    "\n",
    "\n",
    "res = maximize(\n",
    "    objective_function,\n",
    "    a=1,#Initial guess for variable \n",
    "    args=(a,),\n",
    "    constraints=constraint,)\n",
    "\n"
   ]
  },
  {
   "cell_type": "code",
   "execution_count": 19,
   "id": "f285ef71",
   "metadata": {},
   "outputs": [
    {
     "name": "stdout",
     "output_type": "stream",
     "text": [
      "coeff: [[0.80004433]]\n",
      "intercept: [-0.04448802]\n"
     ]
    }
   ],
   "source": [
    "model = LinearRegression()\n",
    "\n",
    "\n",
    "reg = model.fit(X_train, y_train)\n",
    "\n",
    "y_pred = reg.predict(X_test)\n",
    "\n",
    "y_pred\n",
    "print('coeff:', reg.coef_)\n",
    "print('intercept:', reg.intercept_)"
   ]
  },
  {
   "cell_type": "code",
   "execution_count": 20,
   "id": "ef033c94",
   "metadata": {},
   "outputs": [
    {
     "name": "stdout",
     "output_type": "stream",
     "text": [
      "MSE: 29.76\n"
     ]
    }
   ],
   "source": [
    "\n",
    "def mean_squared_error(act, pred):\n",
    "    diff = pred - act\n",
    "    differences_squared = diff ** 2\n",
    "    mean_diff = differences_squared.mean()\n",
    "    return mean_diff\n",
    "\n",
    "#the average squared difference between the estimated values and the actual value. \n",
    "mean_diff = mean_squared_error(y_test, y_pred)\n",
    "\n",
    "mean_diff = round(mean_diff, 2)\n",
    "print('MSE:', mean_diff)"
   ]
  },
  {
   "cell_type": "code",
   "execution_count": null,
   "id": "787716c0",
   "metadata": {},
   "outputs": [],
   "source": []
  }
 ],
 "metadata": {
  "kernelspec": {
   "display_name": "Python 3 (ipykernel)",
   "language": "python",
   "name": "python3"
  },
  "language_info": {
   "codemirror_mode": {
    "name": "ipython",
    "version": 3
   },
   "file_extension": ".py",
   "mimetype": "text/x-python",
   "name": "python",
   "nbconvert_exporter": "python",
   "pygments_lexer": "ipython3",
   "version": "3.8.2"
  }
 },
 "nbformat": 4,
 "nbformat_minor": 5
}
