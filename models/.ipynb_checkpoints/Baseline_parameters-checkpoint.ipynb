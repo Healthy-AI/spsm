{
 "cells": [
  {
   "cell_type": "code",
   "execution_count": 233,
   "id": "4a35dfa1",
   "metadata": {},
   "outputs": [
    {
     "name": "stdout",
     "output_type": "stream",
     "text": [
      "The autoreload extension is already loaded. To reload it, use:\n",
      "  %reload_ext autoreload\n"
     ]
    }
   ],
   "source": [
    "%load_ext autoreload\n",
    "%autoreload 2\n",
    "\n",
    "import numpy as np\n",
    "import pandas as pd \n",
    "\n",
    "\n",
    "import matplotlib.pyplot as plt\n",
    "\n",
    "\n",
    "import pickle"
   ]
  },
  {
   "cell_type": "code",
   "execution_count": 234,
   "id": "742b7c17",
   "metadata": {},
   "outputs": [
    {
     "data": {
      "text/plain": [
       "Index(['acc_validation', 'auc_validation', 'acc_train', 'auc_train',\n",
       "       'acc_test', 'auc_test', 'dataset', 'alpha0', 'alphap',\n",
       "       'min_samples_pattern', 'op', 'penalty_main', 'reg_pattern_intercept',\n",
       "       'tol', 'estimator', 'imputation', 'split', 'seed', 'only_psm_vars',\n",
       "       'mse_validation', 'r_2_validation', 'mse_train', 'r_2_train',\n",
       "       'mse_test', 'r_2_test'],\n",
       "      dtype='object')"
      ]
     },
     "execution_count": 234,
     "metadata": {},
     "output_type": "execute_result"
    }
   ],
   "source": [
    "import pandas as pd\n",
    "import glob\n",
    "\n",
    "#path = r'../Results_backup_14:02' # use your path\n",
    "path = r'../results' # use your path\n",
    "all_files = glob.glob(path + \"/*.csv\")\n",
    "\n",
    "li = []\n",
    "\n",
    "for filename in all_files:\n",
    "    df = pd.read_csv(filename, index_col=None, header=0)\n",
    "    li.append(df)\n",
    "\n",
    "frame = pd.concat(li, axis=0, ignore_index=True)\n",
    "\n",
    "frame.head(10)\n",
    "frame.columns"
   ]
  },
  {
   "cell_type": "code",
   "execution_count": 235,
   "id": "8008b0cf",
   "metadata": {},
   "outputs": [
    {
     "name": "stdout",
     "output_type": "stream",
     "text": [
      "     auc_test estimator      dataset imputation  alpha0  alphap  \\\n",
      "117  0.940581    PSM_lr  SUPPORT_cla       none    10.0     0.0   \n",
      "40   0.926076     SM_lr  SUPPORT_cla       none   100.0     0.0   \n",
      "133  0.984853   SPSM_lr  SUPPORT_cla       none     0.0    10.0   \n",
      "\n",
      "     min_samples_pattern  \n",
      "117                100.0  \n",
      "40                 100.0  \n",
      "133                 10.0  \n",
      "     mse_test estimator      dataset imputation  alpha0  alphap  \\\n",
      "122  0.534578    SM_ols  SUPPORT_reg       none   100.0     0.0   \n",
      "\n",
      "     min_samples_pattern  \n",
      "122                 20.0  \n"
     ]
    }
   ],
   "source": [
    "frame_cla_ = frame.sort_values(by=['dataset', 'estimator','seed','acc_validation'])\n",
    "frame_reg_ = frame.sort_values(by=['dataset', 'estimator','seed','mse_validation'])\n",
    "\n",
    "frame_cla = frame_cla_[frame_cla_['dataset'].isin(['ADNI_cla', 'SUPPORT_cla'])].groupby(['dataset', 'estimator', 'seed'], sort=False).tail(1)\n",
    "frame_reg = frame_reg_[frame_reg_['dataset'].isin(['ADNI_reg', 'SUPPORT_reg'])].groupby(['dataset', 'estimator', 'seed'], sort=False).tail(1)\n",
    "\n",
    "\n",
    "\n",
    "print(frame_cla[['auc_test', 'estimator', 'dataset', 'imputation', 'alpha0', 'alphap', 'min_samples_pattern']])\n",
    "print(frame_reg[['mse_test', 'estimator', 'dataset', 'imputation', 'alpha0', 'alphap', 'min_samples_pattern']])\n",
    "\n",
    "\n"
   ]
  },
  {
   "cell_type": "code",
   "execution_count": 219,
   "id": "7422f7d8",
   "metadata": {},
   "outputs": [],
   "source": [
    "cla_Adni= frame_cla_[frame_cla_['dataset'].isin(['ADNI_cla'])].groupby(['dataset', 'estimator', 'seed'], sort=False).tail(1)\n",
    "cla_Support= frame_cla_[frame_cla_['dataset'].isin(['SUPPORT_cla'])].groupby(['dataset', 'estimator', 'seed'], sort=False).tail(1)\n",
    "\n",
    "reg_Adni= frame_reg_[frame_reg_['dataset'].isin(['ADNI_reg'])].groupby(['dataset', 'estimator', 'seed'], sort=False).tail(1)\n",
    "reg_Support= frame_reg_[frame_reg_['dataset'].isin(['SUPPORT_reg'])].groupby(['dataset', 'estimator', 'seed'], sort=False).tail(1)"
   ]
  },
  {
   "cell_type": "code",
   "execution_count": 220,
   "id": "16c1ab33",
   "metadata": {},
   "outputs": [
    {
     "ename": "ValueError",
     "evalue": "shape mismatch: objects cannot be broadcast to a single shape",
     "output_type": "error",
     "traceback": [
      "\u001b[0;31m---------------------------------------------------------------------------\u001b[0m",
      "\u001b[0;31mValueError\u001b[0m                                Traceback (most recent call last)",
      "\u001b[0;32m/var/folders/zp/36srk4b12hq3bmj3pjx4nb4jyrcv72/T/ipykernel_8098/1605948240.py\u001b[0m in \u001b[0;36m<module>\u001b[0;34m\u001b[0m\n\u001b[1;32m      9\u001b[0m \u001b[0mwidth\u001b[0m \u001b[0;34m=\u001b[0m \u001b[0;36m0.25\u001b[0m\u001b[0;34m\u001b[0m\u001b[0;34m\u001b[0m\u001b[0m\n\u001b[1;32m     10\u001b[0m \u001b[0;34m\u001b[0m\u001b[0m\n\u001b[0;32m---> 11\u001b[0;31m plt.bar(r, Y_ADNI, color=\"b\", width = width, edgecolor = 'black',\n\u001b[0m\u001b[1;32m     12\u001b[0m         label='ADNI dataset')\n\u001b[1;32m     13\u001b[0m plt.bar(r, Y_SUPPORT, color=\"orange\", width = width, edgecolor = 'black',\n",
      "\u001b[0;32m~/opt/anaconda3/lib/python3.8/site-packages/matplotlib/pyplot.py\u001b[0m in \u001b[0;36mbar\u001b[0;34m(x, height, width, bottom, align, data, **kwargs)\u001b[0m\n\u001b[1;32m   2385\u001b[0m         \u001b[0mx\u001b[0m\u001b[0;34m,\u001b[0m \u001b[0mheight\u001b[0m\u001b[0;34m,\u001b[0m \u001b[0mwidth\u001b[0m\u001b[0;34m=\u001b[0m\u001b[0;36m0.8\u001b[0m\u001b[0;34m,\u001b[0m \u001b[0mbottom\u001b[0m\u001b[0;34m=\u001b[0m\u001b[0;32mNone\u001b[0m\u001b[0;34m,\u001b[0m \u001b[0;34m*\u001b[0m\u001b[0;34m,\u001b[0m \u001b[0malign\u001b[0m\u001b[0;34m=\u001b[0m\u001b[0;34m'center'\u001b[0m\u001b[0;34m,\u001b[0m\u001b[0;34m\u001b[0m\u001b[0;34m\u001b[0m\u001b[0m\n\u001b[1;32m   2386\u001b[0m         data=None, **kwargs):\n\u001b[0;32m-> 2387\u001b[0;31m     return gca().bar(\n\u001b[0m\u001b[1;32m   2388\u001b[0m         \u001b[0mx\u001b[0m\u001b[0;34m,\u001b[0m \u001b[0mheight\u001b[0m\u001b[0;34m,\u001b[0m \u001b[0mwidth\u001b[0m\u001b[0;34m=\u001b[0m\u001b[0mwidth\u001b[0m\u001b[0;34m,\u001b[0m \u001b[0mbottom\u001b[0m\u001b[0;34m=\u001b[0m\u001b[0mbottom\u001b[0m\u001b[0;34m,\u001b[0m \u001b[0malign\u001b[0m\u001b[0;34m=\u001b[0m\u001b[0malign\u001b[0m\u001b[0;34m,\u001b[0m\u001b[0;34m\u001b[0m\u001b[0;34m\u001b[0m\u001b[0m\n\u001b[1;32m   2389\u001b[0m         **({\"data\": data} if data is not None else {}), **kwargs)\n",
      "\u001b[0;32m~/opt/anaconda3/lib/python3.8/site-packages/matplotlib/__init__.py\u001b[0m in \u001b[0;36minner\u001b[0;34m(ax, data, *args, **kwargs)\u001b[0m\n\u001b[1;32m   1410\u001b[0m     \u001b[0;32mdef\u001b[0m \u001b[0minner\u001b[0m\u001b[0;34m(\u001b[0m\u001b[0max\u001b[0m\u001b[0;34m,\u001b[0m \u001b[0;34m*\u001b[0m\u001b[0margs\u001b[0m\u001b[0;34m,\u001b[0m \u001b[0mdata\u001b[0m\u001b[0;34m=\u001b[0m\u001b[0;32mNone\u001b[0m\u001b[0;34m,\u001b[0m \u001b[0;34m**\u001b[0m\u001b[0mkwargs\u001b[0m\u001b[0;34m)\u001b[0m\u001b[0;34m:\u001b[0m\u001b[0;34m\u001b[0m\u001b[0;34m\u001b[0m\u001b[0m\n\u001b[1;32m   1411\u001b[0m         \u001b[0;32mif\u001b[0m \u001b[0mdata\u001b[0m \u001b[0;32mis\u001b[0m \u001b[0;32mNone\u001b[0m\u001b[0;34m:\u001b[0m\u001b[0;34m\u001b[0m\u001b[0;34m\u001b[0m\u001b[0m\n\u001b[0;32m-> 1412\u001b[0;31m             \u001b[0;32mreturn\u001b[0m \u001b[0mfunc\u001b[0m\u001b[0;34m(\u001b[0m\u001b[0max\u001b[0m\u001b[0;34m,\u001b[0m \u001b[0;34m*\u001b[0m\u001b[0mmap\u001b[0m\u001b[0;34m(\u001b[0m\u001b[0msanitize_sequence\u001b[0m\u001b[0;34m,\u001b[0m \u001b[0margs\u001b[0m\u001b[0;34m)\u001b[0m\u001b[0;34m,\u001b[0m \u001b[0;34m**\u001b[0m\u001b[0mkwargs\u001b[0m\u001b[0;34m)\u001b[0m\u001b[0;34m\u001b[0m\u001b[0;34m\u001b[0m\u001b[0m\n\u001b[0m\u001b[1;32m   1413\u001b[0m \u001b[0;34m\u001b[0m\u001b[0m\n\u001b[1;32m   1414\u001b[0m         \u001b[0mbound\u001b[0m \u001b[0;34m=\u001b[0m \u001b[0mnew_sig\u001b[0m\u001b[0;34m.\u001b[0m\u001b[0mbind\u001b[0m\u001b[0;34m(\u001b[0m\u001b[0max\u001b[0m\u001b[0;34m,\u001b[0m \u001b[0;34m*\u001b[0m\u001b[0margs\u001b[0m\u001b[0;34m,\u001b[0m \u001b[0;34m**\u001b[0m\u001b[0mkwargs\u001b[0m\u001b[0;34m)\u001b[0m\u001b[0;34m\u001b[0m\u001b[0;34m\u001b[0m\u001b[0m\n",
      "\u001b[0;32m~/opt/anaconda3/lib/python3.8/site-packages/matplotlib/axes/_axes.py\u001b[0m in \u001b[0;36mbar\u001b[0;34m(self, x, height, width, bottom, align, **kwargs)\u001b[0m\n\u001b[1;32m   2340\u001b[0m                 \u001b[0myerr\u001b[0m \u001b[0;34m=\u001b[0m \u001b[0mself\u001b[0m\u001b[0;34m.\u001b[0m\u001b[0m_convert_dx\u001b[0m\u001b[0;34m(\u001b[0m\u001b[0myerr\u001b[0m\u001b[0;34m,\u001b[0m \u001b[0my0\u001b[0m\u001b[0;34m,\u001b[0m \u001b[0my\u001b[0m\u001b[0;34m,\u001b[0m \u001b[0mself\u001b[0m\u001b[0;34m.\u001b[0m\u001b[0mconvert_yunits\u001b[0m\u001b[0;34m)\u001b[0m\u001b[0;34m\u001b[0m\u001b[0;34m\u001b[0m\u001b[0m\n\u001b[1;32m   2341\u001b[0m \u001b[0;34m\u001b[0m\u001b[0m\n\u001b[0;32m-> 2342\u001b[0;31m         x, height, width, y, linewidth, hatch = np.broadcast_arrays(\n\u001b[0m\u001b[1;32m   2343\u001b[0m             \u001b[0;31m# Make args iterable too.\u001b[0m\u001b[0;34m\u001b[0m\u001b[0;34m\u001b[0m\u001b[0;34m\u001b[0m\u001b[0m\n\u001b[1;32m   2344\u001b[0m             np.atleast_1d(x), height, width, y, linewidth, hatch)\n",
      "\u001b[0;32m<__array_function__ internals>\u001b[0m in \u001b[0;36mbroadcast_arrays\u001b[0;34m(*args, **kwargs)\u001b[0m\n",
      "\u001b[0;32m~/opt/anaconda3/lib/python3.8/site-packages/numpy/lib/stride_tricks.py\u001b[0m in \u001b[0;36mbroadcast_arrays\u001b[0;34m(subok, *args)\u001b[0m\n\u001b[1;32m    536\u001b[0m     \u001b[0margs\u001b[0m \u001b[0;34m=\u001b[0m \u001b[0;34m[\u001b[0m\u001b[0mnp\u001b[0m\u001b[0;34m.\u001b[0m\u001b[0marray\u001b[0m\u001b[0;34m(\u001b[0m\u001b[0m_m\u001b[0m\u001b[0;34m,\u001b[0m \u001b[0mcopy\u001b[0m\u001b[0;34m=\u001b[0m\u001b[0;32mFalse\u001b[0m\u001b[0;34m,\u001b[0m \u001b[0msubok\u001b[0m\u001b[0;34m=\u001b[0m\u001b[0msubok\u001b[0m\u001b[0;34m)\u001b[0m \u001b[0;32mfor\u001b[0m \u001b[0m_m\u001b[0m \u001b[0;32min\u001b[0m \u001b[0margs\u001b[0m\u001b[0;34m]\u001b[0m\u001b[0;34m\u001b[0m\u001b[0;34m\u001b[0m\u001b[0m\n\u001b[1;32m    537\u001b[0m \u001b[0;34m\u001b[0m\u001b[0m\n\u001b[0;32m--> 538\u001b[0;31m     \u001b[0mshape\u001b[0m \u001b[0;34m=\u001b[0m \u001b[0m_broadcast_shape\u001b[0m\u001b[0;34m(\u001b[0m\u001b[0;34m*\u001b[0m\u001b[0margs\u001b[0m\u001b[0;34m)\u001b[0m\u001b[0;34m\u001b[0m\u001b[0;34m\u001b[0m\u001b[0m\n\u001b[0m\u001b[1;32m    539\u001b[0m \u001b[0;34m\u001b[0m\u001b[0m\n\u001b[1;32m    540\u001b[0m     \u001b[0;32mif\u001b[0m \u001b[0mall\u001b[0m\u001b[0;34m(\u001b[0m\u001b[0marray\u001b[0m\u001b[0;34m.\u001b[0m\u001b[0mshape\u001b[0m \u001b[0;34m==\u001b[0m \u001b[0mshape\u001b[0m \u001b[0;32mfor\u001b[0m \u001b[0marray\u001b[0m \u001b[0;32min\u001b[0m \u001b[0margs\u001b[0m\u001b[0;34m)\u001b[0m\u001b[0;34m:\u001b[0m\u001b[0;34m\u001b[0m\u001b[0;34m\u001b[0m\u001b[0m\n",
      "\u001b[0;32m~/opt/anaconda3/lib/python3.8/site-packages/numpy/lib/stride_tricks.py\u001b[0m in \u001b[0;36m_broadcast_shape\u001b[0;34m(*args)\u001b[0m\n\u001b[1;32m    418\u001b[0m     \u001b[0;31m# use the old-iterator because np.nditer does not handle size 0 arrays\u001b[0m\u001b[0;34m\u001b[0m\u001b[0;34m\u001b[0m\u001b[0;34m\u001b[0m\u001b[0m\n\u001b[1;32m    419\u001b[0m     \u001b[0;31m# consistently\u001b[0m\u001b[0;34m\u001b[0m\u001b[0;34m\u001b[0m\u001b[0;34m\u001b[0m\u001b[0m\n\u001b[0;32m--> 420\u001b[0;31m     \u001b[0mb\u001b[0m \u001b[0;34m=\u001b[0m \u001b[0mnp\u001b[0m\u001b[0;34m.\u001b[0m\u001b[0mbroadcast\u001b[0m\u001b[0;34m(\u001b[0m\u001b[0;34m*\u001b[0m\u001b[0margs\u001b[0m\u001b[0;34m[\u001b[0m\u001b[0;34m:\u001b[0m\u001b[0;36m32\u001b[0m\u001b[0;34m]\u001b[0m\u001b[0;34m)\u001b[0m\u001b[0;34m\u001b[0m\u001b[0;34m\u001b[0m\u001b[0m\n\u001b[0m\u001b[1;32m    421\u001b[0m     \u001b[0;31m# unfortunately, it cannot handle 32 or more arguments directly\u001b[0m\u001b[0;34m\u001b[0m\u001b[0;34m\u001b[0m\u001b[0;34m\u001b[0m\u001b[0m\n\u001b[1;32m    422\u001b[0m     \u001b[0;32mfor\u001b[0m \u001b[0mpos\u001b[0m \u001b[0;32min\u001b[0m \u001b[0mrange\u001b[0m\u001b[0;34m(\u001b[0m\u001b[0;36m32\u001b[0m\u001b[0;34m,\u001b[0m \u001b[0mlen\u001b[0m\u001b[0;34m(\u001b[0m\u001b[0margs\u001b[0m\u001b[0;34m)\u001b[0m\u001b[0;34m,\u001b[0m \u001b[0;36m31\u001b[0m\u001b[0;34m)\u001b[0m\u001b[0;34m:\u001b[0m\u001b[0;34m\u001b[0m\u001b[0;34m\u001b[0m\u001b[0m\n",
      "\u001b[0;31mValueError\u001b[0m: shape mismatch: objects cannot be broadcast to a single shape"
     ]
    },
    {
     "data": {
      "image/png": "[encoded data removed]",
      "text/plain": [
       "<Figure size 576x360 with 1 Axes>"
      ]
     },
     "metadata": {
      "needs_background": "light"
     },
     "output_type": "display_data"
    }
   ],
   "source": [
    "import numpy as np \n",
    "plt.figure(figsize=(8,5))\n",
    "X = list(cla_Adni['estimator'])\n",
    "Y_ADNI= list(cla_Adni['auc_test'])\n",
    "Y_SUPPORT=list(cla_Support['auc_test'])\n",
    "\n",
    "n=5\n",
    "r = np.arange(n)\n",
    "width = 0.25\n",
    "\n",
    "plt.bar(r, Y_ADNI, color=\"b\", width = width, edgecolor = 'black',\n",
    "        label='ADNI dataset')\n",
    "plt.bar(r, Y_SUPPORT, color=\"orange\", width = width, edgecolor = 'black',\n",
    "        label='SUPPORT dataset')\n",
    "\n",
    "plt.xticks(r + width/2, X)\n",
    "plt.ylabel('Test AUC')\n",
    "plt.xlabel('Estimators')\n",
    "plt.legend(['ADNI data set', 'SUPPORT data set'])\n",
    "plt.title('Results baseline models and SPSM (classification task)')\n",
    "plt.show()"
   ]
  },
  {
   "cell_type": "code",
   "execution_count": 69,
   "id": "5377ddff",
   "metadata": {},
   "outputs": [
    {
     "data": {
      "image/png": "[encoded data removed]",
      "text/plain": [
       "<Figure size 576x360 with 1 Axes>"
      ]
     },
     "metadata": {
      "needs_background": "light"
     },
     "output_type": "display_data"
    }
   ],
   "source": [
    "plt.figure(figsize=(8,5))\n",
    "\n",
    "plt.scatter(reg_Adni['estimator'], reg_Adni['mse_test'], color=\"b\")\n",
    "plt.scatter(reg_Support['estimator'],reg_Support['mse_test'], color=\"orange\")\n",
    "plt.ylabel('Test mse')\n",
    "plt.xlabel('Estimators')\n",
    "plt.legend(['ADNI data set', 'SUPPORT data set'])\n",
    "plt.title('Results baseline models and SPSM (regression task)')\n",
    "plt.show()"
   ]
  },
  {
   "cell_type": "code",
   "execution_count": 92,
   "id": "9bb15712",
   "metadata": {
    "scrolled": false
   },
   "outputs": [
    {
     "name": "stdout",
     "output_type": "stream",
     "text": [
      "../results/model_ADNI_cla_SPSM_lr_none_0.2_alpha0=1.0_alphap=100.0_min_samples_pattern=10.0_penalty_main=l1_reg_pattern_intercept=False_tol=1e-05.pkl\n",
      "../results/model_ADNI_cla_SPSM_lr_none_0.2_alpha0=1.0_alphap=10.0_min_samples_pattern=10.0_penalty_main=l2_reg_pattern_intercept=False_tol=1e-05.pkl\n",
      "../results/model_ADNI_cla_SPSM_lr_none_0.2_alpha0=0.0_alphap=10.0_min_samples_pattern=5.0_penalty_main=l1_reg_pattern_intercept=False_tol=1e-05.pkl\n",
      "../results/model_ADNI_cla_SPSM_lr_none_0.2_alpha0=1.0_alphap=100.0_min_samples_pattern=5.0_penalty_main=l2_reg_pattern_intercept=False_tol=1e-05.pkl\n",
      "../results/model_ADNI_cla_SPSM_lr_none_0.2_alpha0=1.0_alphap=10.0_min_samples_pattern=5.0_penalty_main=l1_reg_pattern_intercept=False_tol=1e-05.pkl\n",
      "../results/model_ADNI_cla_SPSM_lr_none_0.2_alpha0=1.0_alphap=1000.0_min_samples_pattern=5.0_penalty_main=l1_reg_pattern_intercept=False_tol=1e-05.pkl\n",
      "../results/model_ADNI_cla_SPSM_lr_none_0.2_alpha0=0.1_alphap=100000000.0_min_samples_pattern=15.0_penalty_main=l1_reg_pattern_intercept=False_tol=1e-05.pkl\n",
      "../results/model_ADNI_cla_SPSM_lr_none_0.2_alpha0=0.1_alphap=100000000.0_min_samples_pattern=20.0_penalty_main=l2_reg_pattern_intercept=False_tol=1e-05.pkl\n",
      "../results/model_ADNI_cla_PSM_lr_none_0.2_alpha0=100000000.0_alphap=0.0_min_samples_pattern=20.0_penalty_main=l2_reg_pattern_intercept=False_tol=1e-05.pkl\n",
      "../results/model_ADNI_cla_PSM_lr_none_0.2_alpha0=100000000.0_alphap=0.0_min_samples_pattern=15.0_penalty_main=l1_reg_pattern_intercept=False_tol=1e-05.pkl\n",
      "../results/model_ADNI_cla_SPSM_lr_none_0.2_alpha0=0.0_alphap=1000.0_min_samples_pattern=10.0_penalty_main=l2_reg_pattern_intercept=False_tol=1e-05.pkl\n",
      "../results/model_ADNI_cla_SPSM_lr_none_0.2_alpha0=0.0_alphap=100000000.0_min_samples_pattern=10.0_penalty_main=l1_reg_pattern_intercept=False_tol=1e-05.pkl\n",
      "../results/model_ADNI_cla_SPSM_lr_none_0.2_alpha0=0.1_alphap=100000000.0_min_samples_pattern=10.0_penalty_main=l2_reg_pattern_intercept=False_tol=1e-05.pkl\n",
      "../results/model_ADNI_cla_SPSM_lr_none_0.2_alpha0=0.0_alphap=100000000.0_min_samples_pattern=5.0_penalty_main=l1_reg_pattern_intercept=False_tol=1e-05.pkl\n",
      "../results/model_ADNI_cla_PSM_lr_none_0.2_alpha0=100000000.0_alphap=0.0_min_samples_pattern=10.0_penalty_main=l2_reg_pattern_intercept=False_tol=1e-05.pkl\n",
      "../results/model_ADNI_cla_SPSM_lr_none_0.2_alpha0=0.0_alphap=1000.0_min_samples_pattern=15.0_penalty_main=l1_reg_pattern_intercept=False_tol=1e-05.pkl\n",
      "../results/model_ADNI_cla_SPSM_lr_none_0.2_alpha0=0.0_alphap=1000.0_min_samples_pattern=20.0_penalty_main=l2_reg_pattern_intercept=False_tol=1e-05.pkl\n",
      "../results/model_ADNI_cla_SPSM_lr_none_0.2_alpha0=0.0_alphap=100000000.0_min_samples_pattern=20.0_penalty_main=l1_reg_pattern_intercept=False_tol=1e-05.pkl\n",
      "../results/model_ADNI_cla_SPSM_lr_none_0.2_alpha0=0.0_alphap=100000000.0_min_samples_pattern=15.0_penalty_main=l2_reg_pattern_intercept=False_tol=1e-05.pkl\n",
      "../results/model_ADNI_cla_SPSM_lr_none_0.2_alpha0=1.0_alphap=100.0_min_samples_pattern=15.0_penalty_main=l2_reg_pattern_intercept=False_tol=1e-05.pkl\n",
      "../results/model_ADNI_cla_SPSM_lr_none_0.2_alpha0=1.0_alphap=100.0_min_samples_pattern=20.0_penalty_main=l1_reg_pattern_intercept=False_tol=1e-05.pkl\n",
      "../results/model_ADNI_cla_SPSM_lr_none_0.2_alpha0=1.0_alphap=10.0_min_samples_pattern=20.0_penalty_main=l2_reg_pattern_intercept=False_tol=1e-05.pkl\n",
      "../results/model_ADNI_cla_SPSM_lr_none_0.2_alpha0=1.0_alphap=10.0_min_samples_pattern=15.0_penalty_main=l1_reg_pattern_intercept=False_tol=1e-05.pkl\n",
      "../results/model_ADNI_cla_PSM_lr_none_0.2_alpha0=100000000.0_alphap=0.0_min_samples_pattern=5.0_penalty_main=l1_reg_pattern_intercept=False_tol=1e-05.pkl\n",
      "../results/model_ADNI_cla_SPSM_lr_none_0.2_alpha0=0.1_alphap=1000.0_min_samples_pattern=15.0_penalty_main=l1_reg_pattern_intercept=False_tol=1e-05.pkl\n",
      "../results/model_ADNI_cla_SPSM_lr_none_0.2_alpha0=0.1_alphap=1000.0_min_samples_pattern=20.0_penalty_main=l2_reg_pattern_intercept=False_tol=1e-05.pkl\n",
      "../results/model_ADNI_cla_SPSM_lr_none_0.2_alpha0=0.1_alphap=100.0_min_samples_pattern=5.0_penalty_main=l1_reg_pattern_intercept=False_tol=1e-05.pkl\n",
      "../results/model_ADNI_cla_SPSM_lr_none_0.2_alpha0=0.1_alphap=10.0_min_samples_pattern=5.0_penalty_main=l2_reg_pattern_intercept=False_tol=1e-05.pkl\n",
      "../results/model_ADNI_cla_SPSM_lr_none_0.2_alpha0=0.1_alphap=10.0_min_samples_pattern=10.0_penalty_main=l1_reg_pattern_intercept=False_tol=1e-05.pkl\n",
      "../results/model_ADNI_cla_SPSM_lr_none_0.2_alpha0=0.1_alphap=100.0_min_samples_pattern=15.0_penalty_main=l2_reg_pattern_intercept=False_tol=1e-05.pkl\n",
      "../results/model_ADNI_cla_SPSM_lr_none_0.2_alpha0=0.1_alphap=100.0_min_samples_pattern=20.0_penalty_main=l1_reg_pattern_intercept=False_tol=1e-05.pkl\n",
      "../results/model_ADNI_cla_SPSM_lr_none_0.2_alpha0=0.0_alphap=100.0_min_samples_pattern=15.0_penalty_main=l2_reg_pattern_intercept=False_tol=1e-05.pkl\n",
      "../results/model_ADNI_cla_SPSM_lr_none_0.2_alpha0=0.1_alphap=100000000.0_min_samples_pattern=5.0_penalty_main=l2_reg_pattern_intercept=False_tol=1e-05.pkl\n",
      "../results/model_ADNI_cla_SPSM_lr_none_0.2_alpha0=0.0_alphap=100.0_min_samples_pattern=20.0_penalty_main=l1_reg_pattern_intercept=False_tol=1e-05.pkl\n",
      "../results/model_ADNI_cla_SPSM_lr_none_0.2_alpha0=0.0_alphap=10.0_min_samples_pattern=20.0_penalty_main=l2_reg_pattern_intercept=False_tol=1e-05.pkl\n",
      "../results/model_ADNI_cla_SPSM_lr_none_0.2_alpha0=0.0_alphap=10.0_min_samples_pattern=15.0_penalty_main=l1_reg_pattern_intercept=False_tol=1e-05.pkl\n",
      "../results/model_ADNI_cla_SPSM_lr_none_0.2_alpha0=0.0_alphap=10.0_min_samples_pattern=10.0_penalty_main=l2_reg_pattern_intercept=False_tol=1e-05.pkl\n",
      "../results/model_ADNI_cla_SPSM_lr_none_0.2_alpha0=0.0_alphap=100.0_min_samples_pattern=5.0_penalty_main=l2_reg_pattern_intercept=False_tol=1e-05.pkl\n",
      "../results/model_ADNI_cla_SPSM_lr_none_0.2_alpha0=0.1_alphap=1000.0_min_samples_pattern=10.0_penalty_main=l2_reg_pattern_intercept=False_tol=1e-05.pkl\n",
      "../results/model_ADNI_cla_SPSM_lr_none_0.2_alpha0=0.1_alphap=1000.0_min_samples_pattern=5.0_penalty_main=l1_reg_pattern_intercept=False_tol=1e-05.pkl\n",
      "../results/model_ADNI_cla_SPSM_lr_none_0.2_alpha0=0.0_alphap=1000.0_min_samples_pattern=5.0_penalty_main=l1_reg_pattern_intercept=False_tol=1e-05.pkl\n",
      "../results/model_ADNI_cla_SPSM_lr_none_0.2_alpha0=0.1_alphap=10.0_min_samples_pattern=15.0_penalty_main=l2_reg_pattern_intercept=False_tol=1e-05.pkl\n",
      "../results/model_ADNI_cla_SPSM_lr_none_0.2_alpha0=0.1_alphap=10.0_min_samples_pattern=20.0_penalty_main=l1_reg_pattern_intercept=False_tol=1e-05.pkl\n",
      "../results/model_ADNI_cla_SPSM_lr_none_0.2_alpha0=0.1_alphap=100.0_min_samples_pattern=10.0_penalty_main=l1_reg_pattern_intercept=False_tol=1e-05.pkl\n",
      "../results/model_ADNI_cla_SPSM_lr_none_0.2_alpha0=0.0_alphap=100.0_min_samples_pattern=10.0_penalty_main=l1_reg_pattern_intercept=False_tol=1e-05.pkl\n",
      "../results/model_ADNI_cla_SPSM_lr_none_0.2_alpha0=0.0_alphap=100000000.0_min_samples_pattern=10.0_penalty_main=l2_reg_pattern_intercept=False_tol=1e-05.pkl\n",
      "../results/model_ADNI_cla_SPSM_lr_none_0.2_alpha0=0.1_alphap=100000000.0_min_samples_pattern=20.0_penalty_main=l1_reg_pattern_intercept=False_tol=1e-05.pkl\n",
      "../results/model_ADNI_cla_SPSM_lr_none_0.2_alpha0=0.1_alphap=100000000.0_min_samples_pattern=15.0_penalty_main=l2_reg_pattern_intercept=False_tol=1e-05.pkl\n",
      "../results/model_ADNI_cla_PSM_lr_none_0.2_alpha0=100000000.0_alphap=0.0_min_samples_pattern=15.0_penalty_main=l2_reg_pattern_intercept=False_tol=1e-05.pkl\n",
      "../results/model_SUPPORT_cla_SPSM_lr_mice_0.2_.pkl\n",
      "../results/model_ADNI_cla_PSM_lr_none_0.2_alpha0=100000000.0_alphap=0.0_min_samples_pattern=20.0_penalty_main=l1_reg_pattern_intercept=False_tol=1e-05.pkl\n",
      "../results/model_ADNI_cla_SPSM_lr_none_0.2_alpha0=0.0_alphap=1000.0_min_samples_pattern=10.0_penalty_main=l1_reg_pattern_intercept=False_tol=1e-05.pkl\n",
      "../results/model_ADNI_cla_SPSM_lr_none_0.2_alpha0=0.0_alphap=10.0_min_samples_pattern=5.0_penalty_main=l2_reg_pattern_intercept=False_tol=1e-05.pkl\n",
      "../results/model_ADNI_cla_SPSM_lr_none_0.2_alpha0=1.0_alphap=10.0_min_samples_pattern=5.0_penalty_main=l2_reg_pattern_intercept=False_tol=1e-05.pkl\n",
      "../results/model_ADNI_cla_SPSM_lr_none_0.2_alpha0=1.0_alphap=100.0_min_samples_pattern=5.0_penalty_main=l1_reg_pattern_intercept=False_tol=1e-05.pkl\n",
      "../results/model_ADNI_cla_SPSM_lr_none_0.2_alpha0=1.0_alphap=100.0_min_samples_pattern=10.0_penalty_main=l2_reg_pattern_intercept=False_tol=1e-05.pkl\n",
      "../results/model_ADNI_cla_SPSM_lr_none_0.2_alpha0=1.0_alphap=10.0_min_samples_pattern=10.0_penalty_main=l1_reg_pattern_intercept=False_tol=1e-05.pkl\n",
      "../results/model_ADNI_cla_PSM_lr_none_0.2_alpha0=100000000.0_alphap=0.0_min_samples_pattern=5.0_penalty_main=l2_reg_pattern_intercept=False_tol=1e-05.pkl\n",
      "../results/model_ADNI_cla_SPSM_lr_none_0.2_alpha0=1.0_alphap=100.0_min_samples_pattern=20.0_penalty_main=l2_reg_pattern_intercept=False_tol=1e-05.pkl\n",
      "../results/model_ADNI_cla_SPSM_lr_none_0.2_alpha0=1.0_alphap=100.0_min_samples_pattern=15.0_penalty_main=l1_reg_pattern_intercept=False_tol=1e-05.pkl\n",
      "../results/model_ADNI_cla_SPSM_lr_none_0.2_alpha0=1.0_alphap=10.0_min_samples_pattern=15.0_penalty_main=l2_reg_pattern_intercept=False_tol=1e-05.pkl\n",
      "../results/model_ADNI_cla_SPSM_lr_none_0.2_alpha0=1.0_alphap=10.0_min_samples_pattern=20.0_penalty_main=l1_reg_pattern_intercept=False_tol=1e-05.pkl\n",
      "../results/model_ADNI_cla_SPSM_lr_none_0.2_alpha0=0.0_alphap=100000000.0_min_samples_pattern=15.0_penalty_main=l1_reg_pattern_intercept=False_tol=1e-05.pkl\n",
      "../results/model_ADNI_cla_SPSM_lr_none_0.2_alpha0=0.0_alphap=100000000.0_min_samples_pattern=20.0_penalty_main=l2_reg_pattern_intercept=False_tol=1e-05.pkl\n",
      "../results/model_ADNI_cla_SPSM_lr_none_0.2_alpha0=0.1_alphap=100000000.0_min_samples_pattern=10.0_penalty_main=l1_reg_pattern_intercept=False_tol=1e-05.pkl\n",
      "../results/model_ADNI_cla_SPSM_lr_none_0.2_alpha0=0.0_alphap=100000000.0_min_samples_pattern=5.0_penalty_main=l2_reg_pattern_intercept=False_tol=1e-05.pkl\n",
      "../results/model_ADNI_cla_PSM_lr_none_0.2_alpha0=100000000.0_alphap=0.0_min_samples_pattern=10.0_penalty_main=l1_reg_pattern_intercept=False_tol=1e-05.pkl\n",
      "../results/model_ADNI_cla_SPSM_lr_none_0.2_alpha0=0.0_alphap=1000.0_min_samples_pattern=20.0_penalty_main=l1_reg_pattern_intercept=False_tol=1e-05.pkl\n",
      "../results/model_ADNI_cla_SPSM_lr_none_0.2_alpha0=0.0_alphap=1000.0_min_samples_pattern=15.0_penalty_main=l2_reg_pattern_intercept=False_tol=1e-05.pkl\n",
      "../results/model_ADNI_cla_SPSM_lr_none_0.2_alpha0=0.0_alphap=10.0_min_samples_pattern=15.0_penalty_main=l2_reg_pattern_intercept=False_tol=1e-05.pkl\n",
      "../results/model_ADNI_cla_SPSM_lr_none_0.2_alpha0=0.0_alphap=10.0_min_samples_pattern=20.0_penalty_main=l1_reg_pattern_intercept=False_tol=1e-05.pkl\n",
      "../results/model_ADNI_cla_SPSM_lr_none_0.2_alpha0=0.1_alphap=10.0_min_samples_pattern=10.0_penalty_main=l2_reg_pattern_intercept=False_tol=1e-05.pkl\n",
      "../results/model_ADNI_cla_SPSM_lr_none_0.2_alpha0=0.1_alphap=10.0_min_samples_pattern=5.0_penalty_main=l1_reg_pattern_intercept=False_tol=1e-05.pkl\n",
      "../results/model_ADNI_cla_SPSM_lr_none_0.2_alpha0=0.1_alphap=100.0_min_samples_pattern=20.0_penalty_main=l2_reg_pattern_intercept=False_tol=1e-05.pkl\n",
      "../results/model_ADNI_cla_SPSM_lr_none_0.2_alpha0=0.1_alphap=100.0_min_samples_pattern=15.0_penalty_main=l1_reg_pattern_intercept=False_tol=1e-05.pkl\n",
      "../results/model_ADNI_cla_SPSM_lr_none_0.2_alpha0=0.0_alphap=100.0_min_samples_pattern=20.0_penalty_main=l2_reg_pattern_intercept=False_tol=1e-05.pkl\n",
      "../results/model_ADNI_cla_SPSM_lr_none_0.2_alpha0=0.1_alphap=100000000.0_min_samples_pattern=5.0_penalty_main=l1_reg_pattern_intercept=False_tol=1e-05.pkl\n",
      "../results/model_ADNI_cla_SPSM_lr_none_0.2_alpha0=0.0_alphap=100.0_min_samples_pattern=15.0_penalty_main=l1_reg_pattern_intercept=False_tol=1e-05.pkl\n",
      "../results/model_ADNI_cla_SPSM_lr_none_0.2_alpha0=0.1_alphap=1000.0_min_samples_pattern=20.0_penalty_main=l1_reg_pattern_intercept=False_tol=1e-05.pkl\n",
      "../results/model_ADNI_cla_SPSM_lr_none_0.2_alpha0=0.1_alphap=1000.0_min_samples_pattern=15.0_penalty_main=l2_reg_pattern_intercept=False_tol=1e-05.pkl\n",
      "../results/model_ADNI_cla_SPSM_lr_none_0.2_alpha0=0.1_alphap=100.0_min_samples_pattern=5.0_penalty_main=l2_reg_pattern_intercept=False_tol=1e-05.pkl\n",
      "../results/model_ADNI_cla_SPSM_lr_none_0.2_alpha0=0.1_alphap=10.0_min_samples_pattern=20.0_penalty_main=l2_reg_pattern_intercept=False_tol=1e-05.pkl\n",
      "../results/model_ADNI_cla_SPSM_lr_none_0.2_alpha0=0.1_alphap=10.0_min_samples_pattern=15.0_penalty_main=l1_reg_pattern_intercept=False_tol=1e-05.pkl\n",
      "../results/model_ADNI_cla_SPSM_lr_none_0.2_alpha0=0.1_alphap=100.0_min_samples_pattern=10.0_penalty_main=l2_reg_pattern_intercept=False_tol=1e-05.pkl\n",
      "../results/model_ADNI_cla_SPSM_lr_none_0.2_alpha0=0.0_alphap=100.0_min_samples_pattern=10.0_penalty_main=l2_reg_pattern_intercept=False_tol=1e-05.pkl\n",
      "../results/model_ADNI_cla_SPSM_lr_none_0.2_alpha0=0.1_alphap=1000.0_min_samples_pattern=5.0_penalty_main=l2_reg_pattern_intercept=False_tol=1e-05.pkl\n",
      "../results/model_ADNI_cla_SPSM_lr_none_0.2_alpha0=0.1_alphap=1000.0_min_samples_pattern=10.0_penalty_main=l1_reg_pattern_intercept=False_tol=1e-05.pkl\n",
      "../results/model_ADNI_cla_SPSM_lr_none_0.2_alpha0=0.0_alphap=1000.0_min_samples_pattern=5.0_penalty_main=l2_reg_pattern_intercept=False_tol=1e-05.pkl\n",
      "../results/model_ADNI_cla_SPSM_lr_none_0.2_alpha0=0.0_alphap=100.0_min_samples_pattern=5.0_penalty_main=l1_reg_pattern_intercept=False_tol=1e-05.pkl\n",
      "../results/model_ADNI_cla_SPSM_lr_none_0.2_alpha0=0.0_alphap=10.0_min_samples_pattern=10.0_penalty_main=l1_reg_pattern_intercept=False_tol=1e-05.pkl\n"
     ]
    }
   ],
   "source": [
    "path = r'../results' # use your path\n",
    "all_files = glob.glob(path + \"/*.pkl\")\n",
    "\n",
    "print('\\n'.join(all_files))"
   ]
  },
  {
   "cell_type": "code",
   "execution_count": 160,
   "id": "41d61f27",
   "metadata": {},
   "outputs": [
    {
     "name": "stdout",
     "output_type": "stream",
     "text": [
      "ADNI-reg shape (14570, 113)\n",
      "['AGE', 'PTEDUCAT', 'APOE4', 'FDG', 'ABETA_bl', 'TAU_bl', 'PTAU_bl', 'LDELTOTAL', 'MMSE', 'Hippocampus_bl', 'WholeBrain_bl', 'Entorhinal', 'Fusiform', 'ICV']\n",
      "(850, 34)\n",
      "1.0000000000000002\n"
     ]
    },
    {
     "name": "stderr",
     "output_type": "stream",
     "text": [
      "/var/folders/zp/36srk4b12hq3bmj3pjx4nb4jyrcv72/T/ipykernel_8098/1677760112.py:4: DtypeWarning: Columns (18,19,20,103,104) have mixed types.Specify dtype option on import or set low_memory=False.\n",
      "  X, Y = Load_Data.load_ADNIRegressor('../data')\n"
     ]
    }
   ],
   "source": [
    "from data.healthdata import *\n",
    "from util.preprocessing import *\n",
    "#X, Y = Load_Data.load_ADNIClassifier('../data')\n",
    "X, Y = Load_Data.load_ADNIRegressor('../data')\n",
    "classification = False\n",
    "np.random.seed(0)\n",
    "encoder, I, S, X_train, X_test, y_train, y_test, X_val, y_val = Preprocess().preprocessing_ADNI(X, Y, 'mean', classification, .2)\n",
    "\n",
    "cols = X_train.columns\n",
    "cols\n",
    "\n",
    "print(X_train.shape)\n",
    "print(Y.std())"
   ]
  },
  {
   "cell_type": "code",
   "execution_count": 165,
   "id": "2471300d",
   "metadata": {},
   "outputs": [
    {
     "data": {
      "text/plain": [
       "9.899377112094253"
      ]
     },
     "execution_count": 165,
     "metadata": {},
     "output_type": "execute_result"
    }
   ],
   "source": [
    "import pandas as pd\n",
    "pd.read_csv('../data/SUPPORT.csv')['sps'].std()\n",
    "\n"
   ]
  },
  {
   "cell_type": "code",
   "execution_count": 201,
   "id": "b08eb560",
   "metadata": {},
   "outputs": [
    {
     "data": {
      "text/html": [
       "<div>\n",
       "<style scoped>\n",
       "    .dataframe tbody tr th:only-of-type {\n",
       "        vertical-align: middle;\n",
       "    }\n",
       "\n",
       "    .dataframe tbody tr th {\n",
       "        vertical-align: top;\n",
       "    }\n",
       "\n",
       "    .dataframe thead th {\n",
       "        text-align: right;\n",
       "    }\n",
       "</style>\n",
       "<table border=\"1\" class=\"dataframe\">\n",
       "  <thead>\n",
       "    <tr style=\"text-align: right;\">\n",
       "      <th></th>\n",
       "      <th>pafi</th>\n",
       "      <th>meanbp</th>\n",
       "      <th>wblc</th>\n",
       "      <th>alb</th>\n",
       "      <th>resp</th>\n",
       "      <th>temp</th>\n",
       "      <th>hrt</th>\n",
       "      <th>bili</th>\n",
       "      <th>crea</th>\n",
       "      <th>sod</th>\n",
       "    </tr>\n",
       "  </thead>\n",
       "  <tbody>\n",
       "    <tr>\n",
       "      <th>8835</th>\n",
       "      <td>True</td>\n",
       "      <td>True</td>\n",
       "      <td>True</td>\n",
       "      <td>True</td>\n",
       "      <td>True</td>\n",
       "      <td>True</td>\n",
       "      <td>True</td>\n",
       "      <td>True</td>\n",
       "      <td>True</td>\n",
       "      <td>True</td>\n",
       "    </tr>\n",
       "    <tr>\n",
       "      <th>3795</th>\n",
       "      <td>True</td>\n",
       "      <td>True</td>\n",
       "      <td>True</td>\n",
       "      <td>True</td>\n",
       "      <td>True</td>\n",
       "      <td>True</td>\n",
       "      <td>True</td>\n",
       "      <td>True</td>\n",
       "      <td>True</td>\n",
       "      <td>True</td>\n",
       "    </tr>\n",
       "    <tr>\n",
       "      <th>4860</th>\n",
       "      <td>True</td>\n",
       "      <td>True</td>\n",
       "      <td>True</td>\n",
       "      <td>True</td>\n",
       "      <td>True</td>\n",
       "      <td>True</td>\n",
       "      <td>True</td>\n",
       "      <td>True</td>\n",
       "      <td>True</td>\n",
       "      <td>True</td>\n",
       "    </tr>\n",
       "    <tr>\n",
       "      <th>1081</th>\n",
       "      <td>True</td>\n",
       "      <td>True</td>\n",
       "      <td>True</td>\n",
       "      <td>True</td>\n",
       "      <td>True</td>\n",
       "      <td>True</td>\n",
       "      <td>True</td>\n",
       "      <td>True</td>\n",
       "      <td>True</td>\n",
       "      <td>True</td>\n",
       "    </tr>\n",
       "    <tr>\n",
       "      <th>5846</th>\n",
       "      <td>True</td>\n",
       "      <td>True</td>\n",
       "      <td>True</td>\n",
       "      <td>True</td>\n",
       "      <td>True</td>\n",
       "      <td>True</td>\n",
       "      <td>True</td>\n",
       "      <td>True</td>\n",
       "      <td>True</td>\n",
       "      <td>True</td>\n",
       "    </tr>\n",
       "    <tr>\n",
       "      <th>...</th>\n",
       "      <td>...</td>\n",
       "      <td>...</td>\n",
       "      <td>...</td>\n",
       "      <td>...</td>\n",
       "      <td>...</td>\n",
       "      <td>...</td>\n",
       "      <td>...</td>\n",
       "      <td>...</td>\n",
       "      <td>...</td>\n",
       "      <td>...</td>\n",
       "    </tr>\n",
       "    <tr>\n",
       "      <th>7761</th>\n",
       "      <td>True</td>\n",
       "      <td>True</td>\n",
       "      <td>True</td>\n",
       "      <td>True</td>\n",
       "      <td>True</td>\n",
       "      <td>True</td>\n",
       "      <td>True</td>\n",
       "      <td>True</td>\n",
       "      <td>True</td>\n",
       "      <td>True</td>\n",
       "    </tr>\n",
       "    <tr>\n",
       "      <th>177</th>\n",
       "      <td>True</td>\n",
       "      <td>True</td>\n",
       "      <td>True</td>\n",
       "      <td>True</td>\n",
       "      <td>True</td>\n",
       "      <td>True</td>\n",
       "      <td>True</td>\n",
       "      <td>True</td>\n",
       "      <td>True</td>\n",
       "      <td>True</td>\n",
       "    </tr>\n",
       "    <tr>\n",
       "      <th>3454</th>\n",
       "      <td>True</td>\n",
       "      <td>True</td>\n",
       "      <td>True</td>\n",
       "      <td>True</td>\n",
       "      <td>True</td>\n",
       "      <td>True</td>\n",
       "      <td>True</td>\n",
       "      <td>True</td>\n",
       "      <td>True</td>\n",
       "      <td>True</td>\n",
       "    </tr>\n",
       "    <tr>\n",
       "      <th>5129</th>\n",
       "      <td>True</td>\n",
       "      <td>True</td>\n",
       "      <td>True</td>\n",
       "      <td>True</td>\n",
       "      <td>True</td>\n",
       "      <td>True</td>\n",
       "      <td>True</td>\n",
       "      <td>True</td>\n",
       "      <td>True</td>\n",
       "      <td>True</td>\n",
       "    </tr>\n",
       "    <tr>\n",
       "      <th>4747</th>\n",
       "      <td>True</td>\n",
       "      <td>True</td>\n",
       "      <td>True</td>\n",
       "      <td>True</td>\n",
       "      <td>True</td>\n",
       "      <td>True</td>\n",
       "      <td>True</td>\n",
       "      <td>True</td>\n",
       "      <td>True</td>\n",
       "      <td>True</td>\n",
       "    </tr>\n",
       "  </tbody>\n",
       "</table>\n",
       "<p>5826 rows × 10 columns</p>\n",
       "</div>"
      ],
      "text/plain": [
       "      pafi  meanbp  wblc   alb  resp  temp   hrt  bili  crea   sod\n",
       "8835  True    True  True  True  True  True  True  True  True  True\n",
       "3795  True    True  True  True  True  True  True  True  True  True\n",
       "4860  True    True  True  True  True  True  True  True  True  True\n",
       "1081  True    True  True  True  True  True  True  True  True  True\n",
       "5846  True    True  True  True  True  True  True  True  True  True\n",
       "...    ...     ...   ...   ...   ...   ...   ...   ...   ...   ...\n",
       "7761  True    True  True  True  True  True  True  True  True  True\n",
       "177   True    True  True  True  True  True  True  True  True  True\n",
       "3454  True    True  True  True  True  True  True  True  True  True\n",
       "5129  True    True  True  True  True  True  True  True  True  True\n",
       "4747  True    True  True  True  True  True  True  True  True  True\n",
       "\n",
       "[5826 rows x 10 columns]"
      ]
     },
     "execution_count": 201,
     "metadata": {},
     "output_type": "execute_result"
    }
   ],
   "source": [
    "from data.healthdata import *\n",
    "from util.preprocessing import *\n",
    "#X, Y = pd.read_csv('../data/SUPPORT.csv')\n",
    "X, Y = Load_Data.load_SUPPORTRegressor('../data')\n",
    "classification = False\n",
    "encoder, I, S, X_train, X_test, y_train, y_test, X_val, y_val = Preprocess().preprocessing_SUP(X, Y, 'mean', 0.2, only_psm_vars=True)\n",
    "\n",
    "X_train_b = X_train.astype('bool')\n",
    "#X_bool_cols = X_train_b.columns\n",
    "\n"
   ]
  },
  {
   "cell_type": "code",
   "execution_count": 1,
   "id": "576a2fb8",
   "metadata": {},
   "outputs": [
    {
     "ename": "NameError",
     "evalue": "name 'np' is not defined",
     "output_type": "error",
     "traceback": [
      "\u001b[0;31m---------------------------------------------------------------------------\u001b[0m",
      "\u001b[0;31mNameError\u001b[0m                                 Traceback (most recent call last)",
      "\u001b[0;32m/var/folders/zp/36srk4b12hq3bmj3pjx4nb4jyrcv72/T/ipykernel_51690/3157836311.py\u001b[0m in \u001b[0;36m<module>\u001b[0;34m\u001b[0m\n\u001b[1;32m      3\u001b[0m \u001b[0;34m\u001b[0m\u001b[0m\n\u001b[1;32m      4\u001b[0m \u001b[0;34m\u001b[0m\u001b[0m\n\u001b[0;32m----> 5\u001b[0;31m \u001b[0mi\u001b[0m \u001b[0;34m=\u001b[0m \u001b[0mnp\u001b[0m\u001b[0;34m.\u001b[0m\u001b[0msum\u001b[0m\u001b[0;34m(\u001b[0m\u001b[0my_test\u001b[0m\u001b[0;34m)\u001b[0m\u001b[0;34m.\u001b[0m\u001b[0mcolumns\u001b[0m\u001b[0;34m\u001b[0m\u001b[0;34m\u001b[0m\u001b[0m\n\u001b[0m\u001b[1;32m      6\u001b[0m \u001b[0mi\u001b[0m\u001b[0;34m\u001b[0m\u001b[0;34m\u001b[0m\u001b[0m\n",
      "\u001b[0;31mNameError\u001b[0m: name 'np' is not defined"
     ]
    }
   ],
   "source": [
    "import math\n",
    "import statistics\n",
    "\n",
    "\n",
    "i = numpy.sum(y_test).columns\n",
    "i"
   ]
  },
  {
   "cell_type": "code",
   "execution_count": 202,
   "id": "22db92d4",
   "metadata": {},
   "outputs": [],
   "source": [
    " def identify_patterns(X_bool):\n",
    "        P = X_bool.drop_duplicates(subset=None, keep='first', inplace=False)\n",
    "        P = P.reset_index(drop=True)\n",
    "        return P\n",
    "    \n",
    "def select_patients_in_pattern(X_train, X_bool_cols, P_bool_cols, p, y_train):\n",
    "    pattern_match = [np.nan] * X_bool_cols.shape[0]\n",
    "    for i in range(X_bool_cols.shape[0]):\n",
    "        match_X_P = np.all([X_bool_cols.iloc[i, :].eq(P_bool_cols)], axis=None)\n",
    "        if match_X_P == True:\n",
    "            pattern_match[i] = p\n",
    "    X_train['pattern_no'] = pattern_match\n",
    "    y_train_p = y_train[X_train['pattern_no'] == p]\n",
    "    X_pattern_p = X_train[X_train['pattern_no'] == p] #does that make sense?\n",
    "    return X_pattern_p, y_train_p"
   ]
  },
  {
   "cell_type": "code",
   "execution_count": 208,
   "id": "2510bdfd",
   "metadata": {},
   "outputs": [
    {
     "data": {
      "text/html": [
       "<div>\n",
       "<style scoped>\n",
       "    .dataframe tbody tr th:only-of-type {\n",
       "        vertical-align: middle;\n",
       "    }\n",
       "\n",
       "    .dataframe tbody tr th {\n",
       "        vertical-align: top;\n",
       "    }\n",
       "\n",
       "    .dataframe thead th {\n",
       "        text-align: right;\n",
       "    }\n",
       "</style>\n",
       "<table border=\"1\" class=\"dataframe\">\n",
       "  <thead>\n",
       "    <tr style=\"text-align: right;\">\n",
       "      <th></th>\n",
       "      <th>pafi</th>\n",
       "      <th>meanbp</th>\n",
       "      <th>wblc</th>\n",
       "      <th>alb</th>\n",
       "      <th>resp</th>\n",
       "      <th>temp</th>\n",
       "      <th>hrt</th>\n",
       "      <th>bili</th>\n",
       "      <th>crea</th>\n",
       "      <th>sod</th>\n",
       "      <th>pattern_no</th>\n",
       "    </tr>\n",
       "  </thead>\n",
       "  <tbody>\n",
       "  </tbody>\n",
       "</table>\n",
       "</div>"
      ],
      "text/plain": [
       "Empty DataFrame\n",
       "Columns: [pafi, meanbp, wblc, alb, resp, temp, hrt, bili, crea, sod, pattern_no]\n",
       "Index: []"
      ]
     },
     "execution_count": 208,
     "metadata": {},
     "output_type": "execute_result"
    }
   ],
   "source": [
    "P = identify_patterns(X_train_b)\n",
    "p=0\n",
    "X_pattern_p, y_train_p = select_patients_in_pattern(X_train, X_train_b, P, p, y_train)\n",
    "X_pattern_p\n"
   ]
  },
  {
   "cell_type": "code",
   "execution_count": 153,
   "id": "ba230738",
   "metadata": {
    "scrolled": false
   },
   "outputs": [
    {
     "name": "stdout",
     "output_type": "stream",
     "text": [
      "DX_bl_AD 0.56\n",
      "PTRACCAT_Asian 0.44\n",
      "PTRACCAT_Black -0.30\n",
      "LDELTOTAL -0.27\n",
      "DX_bl_CN -0.20\n",
      "MMSE -0.20\n",
      "PTGENDER_Male 0.19\n",
      "PTAU_bl 0.17\n",
      "PTRACCAT_White -0.17\n",
      "Entorhinal -0.13\n",
      "PTETHCAT_Hisp/Latino 0.12\n",
      "ICV 0.10\n",
      "PTMARRY_Divorced 0.09\n",
      "DX_bl_EMCI -0.09\n",
      "WholeBrain_bl -0.08\n",
      "PTRACCAT_Hawaiian/Other PI 0.07\n",
      "DX_bl_SMC -0.06\n",
      "PTMARRY_Widowed 0.05\n",
      "FDG -0.05\n",
      "Hippocampus_bl -0.05\n",
      "TAU_bl -0.05\n",
      "PTETHCAT_Unknown -0.05\n",
      "PTMARRY_Married -0.04\n",
      "PTMARRY_Never married -0.04\n",
      "DX_bl_LMCI -0.03\n",
      "PTETHCAT_Not Hisp/Latino 0.03\n",
      "PTMARRY_Unknown 0.03\n",
      "APOE4 0.03\n",
      "PTRACCAT_More than one -0.03\n",
      "PTEDUCAT -0.02\n",
      "Fusiform -0.02\n",
      "AGE -0.01\n",
      "PTGENDER_Female -0.00\n",
      "ABETA_bl -0.00\n"
     ]
    }
   ],
   "source": [
    "import sys\n",
    "sys.path.append('../')\n",
    "\n",
    "file = pickle.load(open('../results/model_ADNI_reg_SPSM_ols_none_0.2_alpha0=0.0_alphap=10.0_min_samples_pattern=15.0_penalty_main=l2_reg_pattern_intercept=False_tol=1e-05.pkl', 'rb'))\n",
    "\n",
    "\n",
    "P0 = file['estimator'].coef0\n",
    "\n",
    "I = np.argsort(-np.abs(P0.ravel()))\n",
    "for j in I:\n",
    "    print('%s %.2f' % (cols[j], P0[0,j]))"
   ]
  },
  {
   "cell_type": "code",
   "execution_count": 172,
   "id": "0646db00",
   "metadata": {},
   "outputs": [
    {
     "data": {
      "text/plain": [
       "<matplotlib.collections.PathCollection at 0x7fc075226f70>"
      ]
     },
     "execution_count": 172,
     "metadata": {},
     "output_type": "execute_result"
    },
    {
     "data": {
      "image/png": "[encoded data removed]",
      "text/plain": [
       "<Figure size 432x288 with 1 Axes>"
      ]
     },
     "metadata": {
      "needs_background": "light"
     },
     "output_type": "display_data"
    }
   ],
   "source": [
    "import matplotlib.pyplot as plt\n",
    "plt.scatter(X_train['TAU_bl'], X_train['PTAU_bl'])"
   ]
  },
  {
   "cell_type": "code",
   "execution_count": 154,
   "id": "c36b1c2d",
   "metadata": {
    "scrolled": false
   },
   "outputs": [
    {
     "name": "stdout",
     "output_type": "stream",
     "text": [
      "34 (11, 34)\n",
      "\n",
      "0\n",
      "[]\n",
      "AGE             0.046, -0.008 -> 0.038\n",
      "PTEDUCAT        0.015, -0.020 -> -0.005\n",
      "APOE4           -0.009, 0.027 -> 0.018\n",
      "FDG             -0.037, -0.052 -> -0.089\n",
      "Entorhinal      0.020, -0.132 -> -0.112\n",
      "ICV             0.007, 0.100 -> 0.108\n",
      "PTMARRY_Divorced -0.030, 0.094 -> 0.064\n",
      "\n",
      "1\n",
      "['Hippocampus_bl']\n",
      "AGE             0.037, -0.008 -> 0.028\n",
      "\n",
      "2\n",
      "['FDG']\n",
      "TAU_bl          -0.045, -0.051 -> -0.096\n",
      "MMSE            0.012, -0.198 -> -0.186\n",
      "ICV             -0.046, 0.100 -> 0.054\n",
      "\n",
      "3\n",
      "['Entorhinal', 'Fusiform']\n",
      "MMSE            0.012, -0.198 -> -0.186\n",
      "\n",
      "4\n",
      "['ABETA_bl', 'TAU_bl', 'PTAU_bl']\n",
      "AGE             -0.010, -0.008 -> -0.018\n",
      "FDG             -0.042, -0.052 -> -0.094\n",
      "MMSE            -0.017, -0.198 -> -0.215\n",
      "Fusiform        0.028, -0.017 -> 0.012\n",
      "DX_bl_LMCI      -0.046, -0.035 -> -0.080\n",
      "\n",
      "5\n",
      "['Hippocampus_bl', 'Entorhinal', 'Fusiform']\n",
      "\n",
      "6\n",
      "['FDG', 'Hippocampus_bl', 'Entorhinal', 'Fusiform']\n",
      "\n",
      "7\n",
      "['FDG', 'ABETA_bl', 'TAU_bl', 'PTAU_bl']\n",
      "PTEDUCAT        -0.083, -0.020 -> -0.103\n",
      "LDELTOTAL       -0.028, -0.270 -> -0.297\n",
      "MMSE            -0.022, -0.198 -> -0.220\n",
      "\n",
      "8\n",
      "['FDG', 'ABETA_bl', 'TAU_bl', 'PTAU_bl', 'Hippocampus_bl', 'Entorhinal', 'Fusiform']\n",
      "MMSE            -0.144, -0.198 -> -0.342\n",
      "\n",
      "9\n",
      "['FDG', 'ABETA_bl', 'TAU_bl', 'PTAU_bl', 'Hippocampus_bl', 'WholeBrain_bl', 'Entorhinal', 'Fusiform', 'ICV']\n",
      "LDELTOTAL       -0.082, -0.270 -> -0.352\n",
      "\n",
      "10\n",
      "['AGE', 'PTEDUCAT', 'APOE4', 'FDG', 'ABETA_bl', 'TAU_bl', 'PTAU_bl', 'LDELTOTAL', 'MMSE', 'Hippocampus_bl', 'WholeBrain_bl', 'Entorhinal', 'Fusiform', 'ICV', 'DX_bl_AD', 'DX_bl_CN', 'DX_bl_EMCI', 'DX_bl_LMCI', 'DX_bl_SMC', 'PTGENDER_Female', 'PTGENDER_Male', 'PTETHCAT_Hisp/Latino', 'PTETHCAT_Not Hisp/Latino', 'PTETHCAT_Unknown', 'PTRACCAT_Asian', 'PTRACCAT_Black', 'PTRACCAT_Hawaiian/Other PI', 'PTRACCAT_More than one', 'PTRACCAT_White', 'PTMARRY_Divorced', 'PTMARRY_Married', 'PTMARRY_Never married', 'PTMARRY_Unknown', 'PTMARRY_Widowed']\n"
     ]
    }
   ],
   "source": [
    "def rpad(s,n):\n",
    "    return s + ' '*(n-len(s))\n",
    "\n",
    "#file['estimator'].__dict__\n",
    "E = file['estimator']\n",
    "P = E.coefp\n",
    "print(len(cols), E.M.shape)\n",
    "for i in range(P.shape[0]):\n",
    "    print('\\n%d' % i)\n",
    "    print([cols[k] for k in range(len(cols)) if E.M[i,k]>0])\n",
    "    for j in range(P.shape[1]):\n",
    "        if np.abs( P[i,j])>0:\n",
    "            print('%s %.3f, %.3f -> %.3f' %(rpad(cols[j], 15), P[i,j], P0[0,j], P[i,j]+ P0[0,j]))\n",
    "    "
   ]
  }
 ],
 "metadata": {
  "kernelspec": {
   "display_name": "Python 3 (ipykernel)",
   "language": "python",
   "name": "python3"
  },
  "language_info": {
   "codemirror_mode": {
    "name": "ipython",
    "version": 3
   },
   "file_extension": ".py",
   "mimetype": "text/x-python",
   "name": "python",
   "nbconvert_exporter": "python",
   "pygments_lexer": "ipython3",
   "version": "3.8.12"
  }
 },
 "nbformat": 4,
 "nbformat_minor": 5
}
